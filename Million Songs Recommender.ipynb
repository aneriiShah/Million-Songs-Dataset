{
  "nbformat": 4,
  "nbformat_minor": 0,
  "metadata": {
    "colab": {
      "name": "Welcome To Colaboratory",
      "provenance": [],
      "collapsed_sections": []
    },
    "kernelspec": {
      "display_name": "Python 3",
      "name": "python3"
    }
  },
  "cells": [
    {
      "cell_type": "code",
      "metadata": {
        "id": "uqSyqad-xtgw",
        "colab_type": "code",
        "colab": {}
      },
      "source": [
        "import pandas\n",
        "import sklearn\n",
        "from sklearn.model_selection import train_test_split\n",
        "import Recommenders"
      ],
      "execution_count": 0,
      "outputs": []
    },
    {
      "cell_type": "code",
      "metadata": {
        "id": "Qom2d9UiwCd3",
        "colab_type": "code",
        "colab": {}
      },
      "source": [
        "triplets_file = 'kaggle_visible_evaluation_triplets.txt'\n",
        "songs_metadata_file = 'songs.csv'"
      ],
      "execution_count": 0,
      "outputs": []
    },
    {
      "cell_type": "code",
      "metadata": {
        "id": "i7s1MZdnxpjo",
        "colab_type": "code",
        "colab": {}
      },
      "source": [
        "song_df_1 = pandas.read_table(triplets_file,header=None)\n",
        "song_df_1.columns = ['user_id', 'song_id', 'listen_count']"
      ],
      "execution_count": 0,
      "outputs": []
    },
    {
      "cell_type": "code",
      "metadata": {
        "id": "U6sdDQHWx3CU",
        "colab_type": "code",
        "colab": {}
      },
      "source": [
        "song_df_2 =  pandas.read_csv(songs_metadata_file)\n",
        "\n",
        "song_df = pandas.merge(song_df_1, song_df_2.drop_duplicates(['song_id']), on=\"song_id\", how=\"left\")"
      ],
      "execution_count": 0,
      "outputs": []
    },
    {
      "cell_type": "code",
      "metadata": {
        "id": "HIcTsiuHyTtE",
        "colab_type": "code",
        "colab": {
          "base_uri": "https://localhost:8080/",
          "height": 415
        },
        "outputId": "72a78834-a054-4f82-972b-b409ac83321d"
      },
      "source": [
        "song_grouped = song_df.groupby(['song_id']).agg({'listen_count': 'count'}).reset_index()\n",
        "grouped_sum = song_grouped['listen_count'].sum()\n",
        "song_grouped['percentage']  = song_grouped['listen_count'].div(grouped_sum)*100\n",
        "song_grouped.sort_values(['listen_count', 'song_id'], ascending = [0,1])"
      ],
      "execution_count": 51,
      "outputs": [
        {
          "output_type": "execute_result",
          "data": {
            "text/html": [
              "<div>\n",
              "<style scoped>\n",
              "    .dataframe tbody tr th:only-of-type {\n",
              "        vertical-align: middle;\n",
              "    }\n",
              "\n",
              "    .dataframe tbody tr th {\n",
              "        vertical-align: top;\n",
              "    }\n",
              "\n",
              "    .dataframe thead th {\n",
              "        text-align: right;\n",
              "    }\n",
              "</style>\n",
              "<table border=\"1\" class=\"dataframe\">\n",
              "  <thead>\n",
              "    <tr style=\"text-align: right;\">\n",
              "      <th></th>\n",
              "      <th>song_id</th>\n",
              "      <th>listen_count</th>\n",
              "      <th>percentage</th>\n",
              "    </tr>\n",
              "  </thead>\n",
              "  <tbody>\n",
              "    <tr>\n",
              "      <th>38185</th>\n",
              "      <td>SOFRQTD12A81C233C0</td>\n",
              "      <td>5043</td>\n",
              "      <td>0.347569</td>\n",
              "    </tr>\n",
              "    <tr>\n",
              "      <th>5478</th>\n",
              "      <td>SOAUWYT12A81C206F1</td>\n",
              "      <td>4483</td>\n",
              "      <td>0.308974</td>\n",
              "    </tr>\n",
              "    <tr>\n",
              "      <th>10546</th>\n",
              "      <td>SOBONKR12A58A7A7E0</td>\n",
              "      <td>4136</td>\n",
              "      <td>0.285058</td>\n",
              "    </tr>\n",
              "    <tr>\n",
              "      <th>6096</th>\n",
              "      <td>SOAXGDH12A8C13F8A1</td>\n",
              "      <td>3780</td>\n",
              "      <td>0.260522</td>\n",
              "    </tr>\n",
              "    <tr>\n",
              "      <th>121599</th>\n",
              "      <td>SOSXLTC12AF72A7F54</td>\n",
              "      <td>3672</td>\n",
              "      <td>0.253079</td>\n",
              "    </tr>\n",
              "    <tr>\n",
              "      <th>...</th>\n",
              "      <td>...</td>\n",
              "      <td>...</td>\n",
              "      <td>...</td>\n",
              "    </tr>\n",
              "    <tr>\n",
              "      <th>163191</th>\n",
              "      <td>SOZZYCA12AB0182579</td>\n",
              "      <td>1</td>\n",
              "      <td>0.000069</td>\n",
              "    </tr>\n",
              "    <tr>\n",
              "      <th>163199</th>\n",
              "      <td>SOZZZFM12AC4687A9E</td>\n",
              "      <td>1</td>\n",
              "      <td>0.000069</td>\n",
              "    </tr>\n",
              "    <tr>\n",
              "      <th>163200</th>\n",
              "      <td>SOZZZFW12AB0187AD1</td>\n",
              "      <td>1</td>\n",
              "      <td>0.000069</td>\n",
              "    </tr>\n",
              "    <tr>\n",
              "      <th>163202</th>\n",
              "      <td>SOZZZKJ12A6D4FBF66</td>\n",
              "      <td>1</td>\n",
              "      <td>0.000069</td>\n",
              "    </tr>\n",
              "    <tr>\n",
              "      <th>163204</th>\n",
              "      <td>SOZZZRV12A8C1361F1</td>\n",
              "      <td>1</td>\n",
              "      <td>0.000069</td>\n",
              "    </tr>\n",
              "  </tbody>\n",
              "</table>\n",
              "<p>163206 rows × 3 columns</p>\n",
              "</div>"
            ],
            "text/plain": [
              "                   song_id  listen_count  percentage\n",
              "38185   SOFRQTD12A81C233C0          5043    0.347569\n",
              "5478    SOAUWYT12A81C206F1          4483    0.308974\n",
              "10546   SOBONKR12A58A7A7E0          4136    0.285058\n",
              "6096    SOAXGDH12A8C13F8A1          3780    0.260522\n",
              "121599  SOSXLTC12AF72A7F54          3672    0.253079\n",
              "...                    ...           ...         ...\n",
              "163191  SOZZYCA12AB0182579             1    0.000069\n",
              "163199  SOZZZFM12AC4687A9E             1    0.000069\n",
              "163200  SOZZZFW12AB0187AD1             1    0.000069\n",
              "163202  SOZZZKJ12A6D4FBF66             1    0.000069\n",
              "163204  SOZZZRV12A8C1361F1             1    0.000069\n",
              "\n",
              "[163206 rows x 3 columns]"
            ]
          },
          "metadata": {
            "tags": []
          },
          "execution_count": 51
        }
      ]
    },
    {
      "cell_type": "code",
      "metadata": {
        "id": "7rHWjPcZyykM",
        "colab_type": "code",
        "colab": {
          "base_uri": "https://localhost:8080/",
          "height": 35
        },
        "outputId": "d068e286-d89a-4647-fa72-3058c0f63f81"
      },
      "source": [
        "users = song_df['user_id'].unique()\n",
        "len(users) ## return 365 unique users\n",
        "songs = song_df['song_id'].unique()\n",
        "len(songs) ## return 5151 unique songs"
      ],
      "execution_count": 52,
      "outputs": [
        {
          "output_type": "execute_result",
          "data": {
            "text/plain": [
              "163206"
            ]
          },
          "metadata": {
            "tags": []
          },
          "execution_count": 52
        }
      ]
    },
    {
      "cell_type": "code",
      "metadata": {
        "id": "l6LsFPmqy31V",
        "colab_type": "code",
        "colab": {}
      },
      "source": [
        "train_data, test_data = train_test_split(song_df, test_size = 0.20, random_state=0)"
      ],
      "execution_count": 0,
      "outputs": []
    },
    {
      "cell_type": "code",
      "metadata": {
        "id": "X64dq5cez7xA",
        "colab_type": "code",
        "colab": {
          "base_uri": "https://localhost:8080/",
          "height": 355
        },
        "outputId": "49cf497a-a367-41df-e219-1c81d1b18fe3"
      },
      "source": [
        "pm = Recommenders.popularity_recommender_py()\n",
        "pm.create(train_data, 'user_id', 'song_id')\n",
        "#user the popularity model to make some prediction\n",
        "user_id = users[5]\n",
        "pm.recommend(user_id)"
      ],
      "execution_count": 54,
      "outputs": [
        {
          "output_type": "execute_result",
          "data": {
            "text/html": [
              "<div>\n",
              "<style scoped>\n",
              "    .dataframe tbody tr th:only-of-type {\n",
              "        vertical-align: middle;\n",
              "    }\n",
              "\n",
              "    .dataframe tbody tr th {\n",
              "        vertical-align: top;\n",
              "    }\n",
              "\n",
              "    .dataframe thead th {\n",
              "        text-align: right;\n",
              "    }\n",
              "</style>\n",
              "<table border=\"1\" class=\"dataframe\">\n",
              "  <thead>\n",
              "    <tr style=\"text-align: right;\">\n",
              "      <th></th>\n",
              "      <th>user_id</th>\n",
              "      <th>song_id</th>\n",
              "      <th>score</th>\n",
              "      <th>Rank</th>\n",
              "    </tr>\n",
              "  </thead>\n",
              "  <tbody>\n",
              "    <tr>\n",
              "      <th>34880</th>\n",
              "      <td>91b8fac7dc5e03f6cfaf6e2aa7171f14a8354d62</td>\n",
              "      <td>SOFRQTD12A81C233C0</td>\n",
              "      <td>4026</td>\n",
              "      <td>1.0</td>\n",
              "    </tr>\n",
              "    <tr>\n",
              "      <th>4998</th>\n",
              "      <td>91b8fac7dc5e03f6cfaf6e2aa7171f14a8354d62</td>\n",
              "      <td>SOAUWYT12A81C206F1</td>\n",
              "      <td>3597</td>\n",
              "      <td>2.0</td>\n",
              "    </tr>\n",
              "    <tr>\n",
              "      <th>9628</th>\n",
              "      <td>91b8fac7dc5e03f6cfaf6e2aa7171f14a8354d62</td>\n",
              "      <td>SOBONKR12A58A7A7E0</td>\n",
              "      <td>3311</td>\n",
              "      <td>3.0</td>\n",
              "    </tr>\n",
              "    <tr>\n",
              "      <th>5566</th>\n",
              "      <td>91b8fac7dc5e03f6cfaf6e2aa7171f14a8354d62</td>\n",
              "      <td>SOAXGDH12A8C13F8A1</td>\n",
              "      <td>3038</td>\n",
              "      <td>4.0</td>\n",
              "    </tr>\n",
              "    <tr>\n",
              "      <th>111123</th>\n",
              "      <td>91b8fac7dc5e03f6cfaf6e2aa7171f14a8354d62</td>\n",
              "      <td>SOSXLTC12AF72A7F54</td>\n",
              "      <td>2946</td>\n",
              "      <td>5.0</td>\n",
              "    </tr>\n",
              "    <tr>\n",
              "      <th>83557</th>\n",
              "      <td>91b8fac7dc5e03f6cfaf6e2aa7171f14a8354d62</td>\n",
              "      <td>SONYKOW12AB01849C9</td>\n",
              "      <td>2740</td>\n",
              "      <td>6.0</td>\n",
              "    </tr>\n",
              "    <tr>\n",
              "      <th>26181</th>\n",
              "      <td>91b8fac7dc5e03f6cfaf6e2aa7171f14a8354d62</td>\n",
              "      <td>SOEGIYH12A6D4FC0E3</td>\n",
              "      <td>2587</td>\n",
              "      <td>7.0</td>\n",
              "    </tr>\n",
              "    <tr>\n",
              "      <th>20814</th>\n",
              "      <td>91b8fac7dc5e03f6cfaf6e2aa7171f14a8354d62</td>\n",
              "      <td>SODJWHY12A8C142CCE</td>\n",
              "      <td>2236</td>\n",
              "      <td>8.0</td>\n",
              "    </tr>\n",
              "    <tr>\n",
              "      <th>67927</th>\n",
              "      <td>91b8fac7dc5e03f6cfaf6e2aa7171f14a8354d62</td>\n",
              "      <td>SOLFXKT12AB017E3E0</td>\n",
              "      <td>2201</td>\n",
              "      <td>9.0</td>\n",
              "    </tr>\n",
              "    <tr>\n",
              "      <th>33459</th>\n",
              "      <td>91b8fac7dc5e03f6cfaf6e2aa7171f14a8354d62</td>\n",
              "      <td>SOFLJQZ12A6D4FADA6</td>\n",
              "      <td>2144</td>\n",
              "      <td>10.0</td>\n",
              "    </tr>\n",
              "  </tbody>\n",
              "</table>\n",
              "</div>"
            ],
            "text/plain": [
              "                                         user_id  ...  Rank\n",
              "34880   91b8fac7dc5e03f6cfaf6e2aa7171f14a8354d62  ...   1.0\n",
              "4998    91b8fac7dc5e03f6cfaf6e2aa7171f14a8354d62  ...   2.0\n",
              "9628    91b8fac7dc5e03f6cfaf6e2aa7171f14a8354d62  ...   3.0\n",
              "5566    91b8fac7dc5e03f6cfaf6e2aa7171f14a8354d62  ...   4.0\n",
              "111123  91b8fac7dc5e03f6cfaf6e2aa7171f14a8354d62  ...   5.0\n",
              "83557   91b8fac7dc5e03f6cfaf6e2aa7171f14a8354d62  ...   6.0\n",
              "26181   91b8fac7dc5e03f6cfaf6e2aa7171f14a8354d62  ...   7.0\n",
              "20814   91b8fac7dc5e03f6cfaf6e2aa7171f14a8354d62  ...   8.0\n",
              "67927   91b8fac7dc5e03f6cfaf6e2aa7171f14a8354d62  ...   9.0\n",
              "33459   91b8fac7dc5e03f6cfaf6e2aa7171f14a8354d62  ...  10.0\n",
              "\n",
              "[10 rows x 4 columns]"
            ]
          },
          "metadata": {
            "tags": []
          },
          "execution_count": 54
        }
      ]
    },
    {
      "cell_type": "code",
      "metadata": {
        "id": "3oYdXIms02t6",
        "colab_type": "code",
        "colab": {}
      },
      "source": [
        "is_model = Recommenders.item_similarity_recommender_py()\n",
        "is_model.create(train_data, 'user_id', 'song_id')"
      ],
      "execution_count": 0,
      "outputs": []
    },
    {
      "cell_type": "code",
      "metadata": {
        "id": "y2WW6BLk09Xp",
        "colab_type": "code",
        "colab": {
          "base_uri": "https://localhost:8080/",
          "height": 277
        },
        "outputId": "4e39c4f7-d402-4ca8-a56b-7fd70f9f5c9a"
      },
      "source": [
        "#Print the songs for the user in training data\n",
        "user_id = users[5]\n",
        "user_items = is_model.get_user_items(user_id)\n",
        "#\n",
        "print(\"------------------------------------------------------------------------------------\")\n",
        "print(\"Training data songs for the user userid: %s:\" % user_id)\n",
        "print(\"------------------------------------------------------------------------------------\")\n",
        "\n",
        "for user_item in user_items:\n",
        "    print(user_item)\n",
        "\n",
        "print(\"----------------------------------------------------------------------\")\n",
        "print(\"Recommendation process going on:\")\n",
        "print(\"----------------------------------------------------------------------\")\n",
        "\n",
        "#Recommend songs for the user using personalized model\n",
        "is_model.recommend(user_id)"
      ],
      "execution_count": 0,
      "outputs": [
        {
          "output_type": "stream",
          "text": [
            "------------------------------------------------------------------------------------\n",
            "Training data songs for the user userid: 91b8fac7dc5e03f6cfaf6e2aa7171f14a8354d62:\n",
            "------------------------------------------------------------------------------------\n",
            "SOVIJFB12A6D4F98E2\n",
            "SOYPQYA12A6D4FB8F4\n",
            "SOMCWAZ12A67ADBCE3\n",
            "SOADVUP12AB0185246\n",
            "SODBXDO12A6D4FCD4F\n",
            "SOUDGEV12A8C135FC9\n",
            "SOBXMJC12AB018293E\n",
            "----------------------------------------------------------------------\n",
            "Recommendation process going on:\n",
            "----------------------------------------------------------------------\n",
            "No. of unique songs for the user: 7\n",
            "no. of unique songs in the training set: 149145\n"
          ],
          "name": "stdout"
        }
      ]
    }
  ]
}